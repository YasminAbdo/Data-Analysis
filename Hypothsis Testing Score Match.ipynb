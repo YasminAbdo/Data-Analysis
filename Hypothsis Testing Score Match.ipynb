{
 "cells": [
  {
   "cell_type": "code",
   "execution_count": 9,
   "id": "d3a5b702-e39b-4344-90c5-f8247852b30f",
   "metadata": {},
   "outputs": [],
   "source": [
    "import pandas as pd\n",
    "import numpy as np\n",
    "import matplotlib.pyplot as plt\n",
    "import seaborn as sns\n",
    "import pingouin as pg"
   ]
  },
  {
   "cell_type": "code",
   "execution_count": 3,
   "id": "deb8b93e-a399-481e-a147-00dca888898d",
   "metadata": {},
   "outputs": [
    {
     "data": {
      "text/html": [
       "<div>\n",
       "<style scoped>\n",
       "    .dataframe tbody tr th:only-of-type {\n",
       "        vertical-align: middle;\n",
       "    }\n",
       "\n",
       "    .dataframe tbody tr th {\n",
       "        vertical-align: top;\n",
       "    }\n",
       "\n",
       "    .dataframe thead th {\n",
       "        text-align: right;\n",
       "    }\n",
       "</style>\n",
       "<table border=\"1\" class=\"dataframe\">\n",
       "  <thead>\n",
       "    <tr style=\"text-align: right;\">\n",
       "      <th></th>\n",
       "      <th>date</th>\n",
       "      <th>home_team</th>\n",
       "      <th>away_team</th>\n",
       "      <th>home_score</th>\n",
       "      <th>away_score</th>\n",
       "      <th>tournament</th>\n",
       "    </tr>\n",
       "  </thead>\n",
       "  <tbody>\n",
       "    <tr>\n",
       "      <th>0</th>\n",
       "      <td>1872-11-30</td>\n",
       "      <td>Scotland</td>\n",
       "      <td>England</td>\n",
       "      <td>0</td>\n",
       "      <td>0</td>\n",
       "      <td>Friendly</td>\n",
       "    </tr>\n",
       "    <tr>\n",
       "      <th>1</th>\n",
       "      <td>1873-03-08</td>\n",
       "      <td>England</td>\n",
       "      <td>Scotland</td>\n",
       "      <td>4</td>\n",
       "      <td>2</td>\n",
       "      <td>Friendly</td>\n",
       "    </tr>\n",
       "    <tr>\n",
       "      <th>2</th>\n",
       "      <td>1874-03-07</td>\n",
       "      <td>Scotland</td>\n",
       "      <td>England</td>\n",
       "      <td>2</td>\n",
       "      <td>1</td>\n",
       "      <td>Friendly</td>\n",
       "    </tr>\n",
       "    <tr>\n",
       "      <th>3</th>\n",
       "      <td>1875-03-06</td>\n",
       "      <td>England</td>\n",
       "      <td>Scotland</td>\n",
       "      <td>2</td>\n",
       "      <td>2</td>\n",
       "      <td>Friendly</td>\n",
       "    </tr>\n",
       "    <tr>\n",
       "      <th>4</th>\n",
       "      <td>1876-03-04</td>\n",
       "      <td>Scotland</td>\n",
       "      <td>England</td>\n",
       "      <td>3</td>\n",
       "      <td>0</td>\n",
       "      <td>Friendly</td>\n",
       "    </tr>\n",
       "  </tbody>\n",
       "</table>\n",
       "</div>"
      ],
      "text/plain": [
       "         date home_team away_team  home_score  away_score tournament\n",
       "0  1872-11-30  Scotland   England           0           0   Friendly\n",
       "1  1873-03-08   England  Scotland           4           2   Friendly\n",
       "2  1874-03-07  Scotland   England           2           1   Friendly\n",
       "3  1875-03-06   England  Scotland           2           2   Friendly\n",
       "4  1876-03-04  Scotland   England           3           0   Friendly"
      ]
     },
     "execution_count": 3,
     "metadata": {},
     "output_type": "execute_result"
    }
   ],
   "source": [
    "men_results = pd.read_csv('men_results.csv', parse_dates=['date'])\n",
    "men_results.head()"
   ]
  },
  {
   "cell_type": "code",
   "execution_count": 4,
   "id": "e69182de-17be-495d-b6ef-6ba9426ddce6",
   "metadata": {},
   "outputs": [
    {
     "data": {
      "text/html": [
       "<div>\n",
       "<style scoped>\n",
       "    .dataframe tbody tr th:only-of-type {\n",
       "        vertical-align: middle;\n",
       "    }\n",
       "\n",
       "    .dataframe tbody tr th {\n",
       "        vertical-align: top;\n",
       "    }\n",
       "\n",
       "    .dataframe thead th {\n",
       "        text-align: right;\n",
       "    }\n",
       "</style>\n",
       "<table border=\"1\" class=\"dataframe\">\n",
       "  <thead>\n",
       "    <tr style=\"text-align: right;\">\n",
       "      <th></th>\n",
       "      <th>date</th>\n",
       "      <th>home_team</th>\n",
       "      <th>away_team</th>\n",
       "      <th>home_score</th>\n",
       "      <th>away_score</th>\n",
       "      <th>tournament</th>\n",
       "    </tr>\n",
       "  </thead>\n",
       "  <tbody>\n",
       "    <tr>\n",
       "      <th>0</th>\n",
       "      <td>01/11/1969</td>\n",
       "      <td>Italy</td>\n",
       "      <td>France</td>\n",
       "      <td>1</td>\n",
       "      <td>0</td>\n",
       "      <td>Euro</td>\n",
       "    </tr>\n",
       "    <tr>\n",
       "      <th>1</th>\n",
       "      <td>01/11/1969</td>\n",
       "      <td>Denmark</td>\n",
       "      <td>England</td>\n",
       "      <td>4</td>\n",
       "      <td>3</td>\n",
       "      <td>Euro</td>\n",
       "    </tr>\n",
       "    <tr>\n",
       "      <th>2</th>\n",
       "      <td>02/11/1969</td>\n",
       "      <td>England</td>\n",
       "      <td>France</td>\n",
       "      <td>2</td>\n",
       "      <td>0</td>\n",
       "      <td>Euro</td>\n",
       "    </tr>\n",
       "    <tr>\n",
       "      <th>3</th>\n",
       "      <td>02/11/1969</td>\n",
       "      <td>Italy</td>\n",
       "      <td>Denmark</td>\n",
       "      <td>3</td>\n",
       "      <td>1</td>\n",
       "      <td>Euro</td>\n",
       "    </tr>\n",
       "    <tr>\n",
       "      <th>4</th>\n",
       "      <td>25/08/1975</td>\n",
       "      <td>Thailand</td>\n",
       "      <td>Australia</td>\n",
       "      <td>3</td>\n",
       "      <td>2</td>\n",
       "      <td>AFC Championship</td>\n",
       "    </tr>\n",
       "  </tbody>\n",
       "</table>\n",
       "</div>"
      ],
      "text/plain": [
       "         date home_team  away_team  home_score  away_score        tournament\n",
       "0  01/11/1969     Italy     France           1           0              Euro\n",
       "1  01/11/1969   Denmark    England           4           3              Euro\n",
       "2  02/11/1969   England     France           2           0              Euro\n",
       "3  02/11/1969     Italy    Denmark           3           1              Euro\n",
       "4  25/08/1975  Thailand  Australia           3           2  AFC Championship"
      ]
     },
     "execution_count": 4,
     "metadata": {},
     "output_type": "execute_result"
    }
   ],
   "source": [
    "women_results = pd.read_csv('women_results.csv', parse_dates=['date'])\n",
    "women_results.head()"
   ]
  },
  {
   "cell_type": "code",
   "execution_count": 5,
   "id": "08e0a305-f19c-4ebd-8992-e6d83e2a5a9d",
   "metadata": {},
   "outputs": [],
   "source": [
    "men_subset = men_results.loc[(men_results['date'] > '2002-01-01') & (men_results['tournament'] == 'FIFA World Cup')]\n",
    "women_subset = women_results.loc[(women_results['date'] > '2002-01-01') & (women_results['tournament'] == 'FIFA World Cup')]"
   ]
  },
  {
   "cell_type": "code",
   "execution_count": 6,
   "id": "9a679891-0f6e-47fa-91d7-9ceb46fda07a",
   "metadata": {},
   "outputs": [
    {
     "name": "stderr",
     "output_type": "stream",
     "text": [
      "C:\\Users\\M S I\\AppData\\Local\\Temp\\ipykernel_29232\\2017280077.py:1: SettingWithCopyWarning: \n",
      "A value is trying to be set on a copy of a slice from a DataFrame.\n",
      "Try using .loc[row_indexer,col_indexer] = value instead\n",
      "\n",
      "See the caveats in the documentation: https://pandas.pydata.org/pandas-docs/stable/user_guide/indexing.html#returning-a-view-versus-a-copy\n",
      "  men_subset['goals_scored'] = men_subset['home_score'] + men_subset['away_score']\n",
      "C:\\Users\\M S I\\AppData\\Local\\Temp\\ipykernel_29232\\2017280077.py:2: SettingWithCopyWarning: \n",
      "A value is trying to be set on a copy of a slice from a DataFrame.\n",
      "Try using .loc[row_indexer,col_indexer] = value instead\n",
      "\n",
      "See the caveats in the documentation: https://pandas.pydata.org/pandas-docs/stable/user_guide/indexing.html#returning-a-view-versus-a-copy\n",
      "  women_subset['goals_scored'] = women_subset['home_score'] + women_subset['away_score']\n"
     ]
    }
   ],
   "source": [
    "men_subset['goals_scored'] = men_subset['home_score'] + men_subset['away_score']\n",
    "women_subset['goals_scored'] = women_subset['home_score'] + women_subset['away_score']"
   ]
  },
  {
   "cell_type": "code",
   "execution_count": 7,
   "id": "a4c3e100-d48b-492c-ac6f-8fcd6e1f1d91",
   "metadata": {},
   "outputs": [
    {
     "name": "stderr",
     "output_type": "stream",
     "text": [
      "C:\\Users\\M S I\\anaconda3\\Lib\\site-packages\\seaborn\\_oldcore.py:1119: FutureWarning: use_inf_as_na option is deprecated and will be removed in a future version. Convert inf values to NaN before operating instead.\n",
      "  with pd.option_context('mode.use_inf_as_na', True):\n"
     ]
    },
    {
     "data": {
      "image/png": "[encoded data removed]",
      "text/plain": [
       "<Figure size 640x480 with 1 Axes>"
      ]
     },
     "metadata": {},
     "output_type": "display_data"
    }
   ],
   "source": [
    "sns.histplot(x=men_subset['goals_scored'], kde=True)\n",
    "plt.title('Men')\n",
    "plt.show()"
   ]
  },
  {
   "cell_type": "code",
   "execution_count": 8,
   "id": "ae0726d1-e362-44d1-b903-9967887fd1a4",
   "metadata": {},
   "outputs": [
    {
     "name": "stderr",
     "output_type": "stream",
     "text": [
      "C:\\Users\\M S I\\anaconda3\\Lib\\site-packages\\seaborn\\_oldcore.py:1119: FutureWarning: use_inf_as_na option is deprecated and will be removed in a future version. Convert inf values to NaN before operating instead.\n",
      "  with pd.option_context('mode.use_inf_as_na', True):\n"
     ]
    },
    {
     "data": {
      "image/png": "[encoded data removed]",
      "text/plain": [
       "<Figure size 640x480 with 1 Axes>"
      ]
     },
     "metadata": {},
     "output_type": "display_data"
    }
   ],
   "source": [
    "sns.histplot(x=women_subset['goals_scored'], kde=True)\n",
    "plt.title('Women')\n",
    "plt.show()"
   ]
  },
  {
   "cell_type": "code",
   "execution_count": 10,
   "id": "36085f9d-8c2c-462a-b5ac-546a268256f2",
   "metadata": {},
   "outputs": [
    {
     "data": {
      "text/html": [
       "<div>\n",
       "<style scoped>\n",
       "    .dataframe tbody tr th:only-of-type {\n",
       "        vertical-align: middle;\n",
       "    }\n",
       "\n",
       "    .dataframe tbody tr th {\n",
       "        vertical-align: top;\n",
       "    }\n",
       "\n",
       "    .dataframe thead th {\n",
       "        text-align: right;\n",
       "    }\n",
       "</style>\n",
       "<table border=\"1\" class=\"dataframe\">\n",
       "  <thead>\n",
       "    <tr style=\"text-align: right;\">\n",
       "      <th></th>\n",
       "      <th>U-val</th>\n",
       "      <th>alternative</th>\n",
       "      <th>p-val</th>\n",
       "      <th>RBC</th>\n",
       "      <th>CLES</th>\n",
       "    </tr>\n",
       "  </thead>\n",
       "  <tbody>\n",
       "    <tr>\n",
       "      <th>MWU</th>\n",
       "      <td>16785.0</td>\n",
       "      <td>greater</td>\n",
       "      <td>0.087344</td>\n",
       "      <td>0.090537</td>\n",
       "      <td>0.545268</td>\n",
       "    </tr>\n",
       "  </tbody>\n",
       "</table>\n",
       "</div>"
      ],
      "text/plain": [
       "       U-val alternative     p-val       RBC      CLES\n",
       "MWU  16785.0     greater  0.087344  0.090537  0.545268"
      ]
     },
     "execution_count": 10,
     "metadata": {},
     "output_type": "execute_result"
    }
   ],
   "source": [
    "mwu_results = pg.mwu(x=women_subset['goals_scored'], y=men_subset['goals_scored'], alternative='greater')\n",
    "p_val = mwu_results['p-val'].iloc[0]\n",
    "mwu_results"
   ]
  },
  {
   "cell_type": "code",
   "execution_count": null,
   "id": "905b2e46-dc77-467c-bf60-90b8be5fd9df",
   "metadata": {},
   "outputs": [],
   "source": [
    "if p_val < 0.1:\n",
    "    result = 'reject'\n",
    "else:\n",
    "    result"
   ]
  }
 ],
 "metadata": {
  "kernelspec": {
   "display_name": "Python 3 (ipykernel)",
   "language": "python",
   "name": "python3"
  },
  "language_info": {
   "codemirror_mode": {
    "name": "ipython",
    "version": 3
   },
   "file_extension": ".py",
   "mimetype": "text/x-python",
   "name": "python",
   "nbconvert_exporter": "python",
   "pygments_lexer": "ipython3",
   "version": "3.11.7"
  }
 },
 "nbformat": 4,
 "nbformat_minor": 5
}
